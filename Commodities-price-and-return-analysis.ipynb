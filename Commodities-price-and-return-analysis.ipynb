{
 "cells": [
  {
   "cell_type": "code",
   "execution_count": 1,
   "metadata": {
    "execution": {
     "iopub.execute_input": "2022-06-27T13:36:11.050953Z",
     "iopub.status.busy": "2022-06-27T13:36:11.050517Z",
     "iopub.status.idle": "2022-06-27T13:36:12.412605Z",
     "shell.execute_reply": "2022-06-27T13:36:12.411219Z",
     "shell.execute_reply.started": "2022-06-27T13:36:11.050864Z"
    }
   },
   "outputs": [
    {
     "data": {
      "text/html": [
       "<div>\n",
       "<style scoped>\n",
       "    .dataframe tbody tr th:only-of-type {\n",
       "        vertical-align: middle;\n",
       "    }\n",
       "\n",
       "    .dataframe tbody tr th {\n",
       "        vertical-align: top;\n",
       "    }\n",
       "\n",
       "    .dataframe thead th {\n",
       "        text-align: right;\n",
       "    }\n",
       "</style>\n",
       "<table border=\"1\" class=\"dataframe\">\n",
       "  <thead>\n",
       "    <tr style=\"text-align: right;\">\n",
       "      <th></th>\n",
       "      <th>Crude Oil</th>\n",
       "      <th>Brent Oil</th>\n",
       "      <th>Natural Gas</th>\n",
       "      <th>Gold</th>\n",
       "      <th>Silver</th>\n",
       "      <th>Copper</th>\n",
       "    </tr>\n",
       "    <tr>\n",
       "      <th>Date</th>\n",
       "      <th></th>\n",
       "      <th></th>\n",
       "      <th></th>\n",
       "      <th></th>\n",
       "      <th></th>\n",
       "      <th></th>\n",
       "    </tr>\n",
       "  </thead>\n",
       "  <tbody>\n",
       "    <tr>\n",
       "      <th>2022-06-15</th>\n",
       "      <td>119.11</td>\n",
       "      <td>121.35</td>\n",
       "      <td>7.296</td>\n",
       "      <td>1814.8</td>\n",
       "      <td>21.090</td>\n",
       "      <td>4.1777</td>\n",
       "    </tr>\n",
       "    <tr>\n",
       "      <th>2022-06-14</th>\n",
       "      <td>118.93</td>\n",
       "      <td>121.17</td>\n",
       "      <td>7.189</td>\n",
       "      <td>1813.5</td>\n",
       "      <td>20.954</td>\n",
       "      <td>4.1565</td>\n",
       "    </tr>\n",
       "    <tr>\n",
       "      <th>2022-06-13</th>\n",
       "      <td>120.93</td>\n",
       "      <td>122.27</td>\n",
       "      <td>8.609</td>\n",
       "      <td>1831.8</td>\n",
       "      <td>21.255</td>\n",
       "      <td>4.2115</td>\n",
       "    </tr>\n",
       "    <tr>\n",
       "      <th>2022-06-10</th>\n",
       "      <td>120.67</td>\n",
       "      <td>122.01</td>\n",
       "      <td>8.850</td>\n",
       "      <td>1875.5</td>\n",
       "      <td>21.931</td>\n",
       "      <td>4.2945</td>\n",
       "    </tr>\n",
       "    <tr>\n",
       "      <th>2022-06-09</th>\n",
       "      <td>121.51</td>\n",
       "      <td>123.07</td>\n",
       "      <td>8.963</td>\n",
       "      <td>1852.8</td>\n",
       "      <td>21.817</td>\n",
       "      <td>4.3810</td>\n",
       "    </tr>\n",
       "  </tbody>\n",
       "</table>\n",
       "</div>"
      ],
      "text/plain": [
       "            Crude Oil  Brent Oil  Natural Gas    Gold  Silver  Copper\n",
       "Date                                                                 \n",
       "2022-06-15     119.11     121.35        7.296  1814.8  21.090  4.1777\n",
       "2022-06-14     118.93     121.17        7.189  1813.5  20.954  4.1565\n",
       "2022-06-13     120.93     122.27        8.609  1831.8  21.255  4.2115\n",
       "2022-06-10     120.67     122.01        8.850  1875.5  21.931  4.2945\n",
       "2022-06-09     121.51     123.07        8.963  1852.8  21.817  4.3810"
      ]
     },
     "execution_count": 1,
     "metadata": {},
     "output_type": "execute_result"
    }
   ],
   "source": [
    "import pandas as pd\n",
    "import numpy as np\n",
    "import matplotlib.pyplot as plt\n",
    "import seaborn as sns\n",
    "\n",
    "df = pd.read_csv('commodities_12_22.csv', parse_dates=['Date'], index_col=0)\n",
    "df.head()"
   ]
  },
  {
   "cell_type": "code",
   "execution_count": 2,
   "metadata": {
    "execution": {
     "iopub.execute_input": "2022-06-27T13:36:26.633141Z",
     "iopub.status.busy": "2022-06-27T13:36:26.632758Z",
     "iopub.status.idle": "2022-06-27T13:36:26.658329Z",
     "shell.execute_reply": "2022-06-27T13:36:26.657032Z",
     "shell.execute_reply.started": "2022-06-27T13:36:26.633108Z"
    }
   },
   "outputs": [
    {
     "name": "stdout",
     "output_type": "stream",
     "text": [
      "<class 'pandas.core.frame.DataFrame'>\n",
      "DatetimeIndex: 3259 entries, 2022-06-15 to 2012-01-02\n",
      "Data columns (total 6 columns):\n",
      " #   Column       Non-Null Count  Dtype  \n",
      "---  ------       --------------  -----  \n",
      " 0   Crude Oil    2734 non-null   float64\n",
      " 1   Brent Oil    2701 non-null   float64\n",
      " 2   Natural Gas  2733 non-null   float64\n",
      " 3   Gold         2742 non-null   float64\n",
      " 4   Silver       3256 non-null   float64\n",
      " 5   Copper       2686 non-null   float64\n",
      "dtypes: float64(6)\n",
      "memory usage: 178.2 KB\n"
     ]
    }
   ],
   "source": [
    "df.info()"
   ]
  },
  {
   "cell_type": "code",
   "execution_count": 3,
   "metadata": {
    "execution": {
     "iopub.execute_input": "2022-06-27T13:36:46.469996Z",
     "iopub.status.busy": "2022-06-27T13:36:46.469559Z",
     "iopub.status.idle": "2022-06-27T13:36:46.489822Z",
     "shell.execute_reply": "2022-06-27T13:36:46.489023Z",
     "shell.execute_reply.started": "2022-06-27T13:36:46.469948Z"
    }
   },
   "outputs": [
    {
     "data": {
      "text/html": [
       "<div>\n",
       "<style scoped>\n",
       "    .dataframe tbody tr th:only-of-type {\n",
       "        vertical-align: middle;\n",
       "    }\n",
       "\n",
       "    .dataframe tbody tr th {\n",
       "        vertical-align: top;\n",
       "    }\n",
       "\n",
       "    .dataframe thead th {\n",
       "        text-align: right;\n",
       "    }\n",
       "</style>\n",
       "<table border=\"1\" class=\"dataframe\">\n",
       "  <thead>\n",
       "    <tr style=\"text-align: right;\">\n",
       "      <th></th>\n",
       "      <th>Crude Oil</th>\n",
       "      <th>Brent Oil</th>\n",
       "      <th>Natural Gas</th>\n",
       "      <th>Gold</th>\n",
       "      <th>Silver</th>\n",
       "      <th>Copper</th>\n",
       "    </tr>\n",
       "    <tr>\n",
       "      <th>Date</th>\n",
       "      <th></th>\n",
       "      <th></th>\n",
       "      <th></th>\n",
       "      <th></th>\n",
       "      <th></th>\n",
       "      <th></th>\n",
       "    </tr>\n",
       "  </thead>\n",
       "  <tbody>\n",
       "    <tr>\n",
       "      <th>2022-06-15</th>\n",
       "      <td>NaN</td>\n",
       "      <td>NaN</td>\n",
       "      <td>NaN</td>\n",
       "      <td>NaN</td>\n",
       "      <td>NaN</td>\n",
       "      <td>NaN</td>\n",
       "    </tr>\n",
       "    <tr>\n",
       "      <th>2022-06-14</th>\n",
       "      <td>-0.001511</td>\n",
       "      <td>-0.001483</td>\n",
       "      <td>-0.014666</td>\n",
       "      <td>-0.000716</td>\n",
       "      <td>-0.006449</td>\n",
       "      <td>-0.005075</td>\n",
       "    </tr>\n",
       "    <tr>\n",
       "      <th>2022-06-13</th>\n",
       "      <td>0.016817</td>\n",
       "      <td>0.009078</td>\n",
       "      <td>0.197524</td>\n",
       "      <td>0.010091</td>\n",
       "      <td>0.014365</td>\n",
       "      <td>0.013232</td>\n",
       "    </tr>\n",
       "    <tr>\n",
       "      <th>2022-06-10</th>\n",
       "      <td>-0.002150</td>\n",
       "      <td>-0.002126</td>\n",
       "      <td>0.027994</td>\n",
       "      <td>0.023856</td>\n",
       "      <td>0.031804</td>\n",
       "      <td>0.019708</td>\n",
       "    </tr>\n",
       "    <tr>\n",
       "      <th>2022-06-09</th>\n",
       "      <td>0.006961</td>\n",
       "      <td>0.008688</td>\n",
       "      <td>0.012768</td>\n",
       "      <td>-0.012103</td>\n",
       "      <td>-0.005198</td>\n",
       "      <td>0.020142</td>\n",
       "    </tr>\n",
       "  </tbody>\n",
       "</table>\n",
       "</div>"
      ],
      "text/plain": [
       "            Crude Oil  Brent Oil  Natural Gas      Gold    Silver    Copper\n",
       "Date                                                                       \n",
       "2022-06-15        NaN        NaN          NaN       NaN       NaN       NaN\n",
       "2022-06-14  -0.001511  -0.001483    -0.014666 -0.000716 -0.006449 -0.005075\n",
       "2022-06-13   0.016817   0.009078     0.197524  0.010091  0.014365  0.013232\n",
       "2022-06-10  -0.002150  -0.002126     0.027994  0.023856  0.031804  0.019708\n",
       "2022-06-09   0.006961   0.008688     0.012768 -0.012103 -0.005198  0.020142"
      ]
     },
     "execution_count": 3,
     "metadata": {},
     "output_type": "execute_result"
    }
   ],
   "source": [
    "daily_return = df.pct_change()\n",
    "daily_return.head()"
   ]
  },
  {
   "cell_type": "markdown",
   "metadata": {},
   "source": [
    "Convert daily price to monthly price by taking the commodities' price at the last trading day of the month"
   ]
  },
  {
   "cell_type": "code",
   "execution_count": 4,
   "metadata": {
    "execution": {
     "iopub.execute_input": "2022-06-27T13:38:28.044220Z",
     "iopub.status.busy": "2022-06-27T13:38:28.043832Z",
     "iopub.status.idle": "2022-06-27T13:38:28.067478Z",
     "shell.execute_reply": "2022-06-27T13:38:28.066628Z",
     "shell.execute_reply.started": "2022-06-27T13:38:28.044188Z"
    }
   },
   "outputs": [],
   "source": [
    "monthly_price = df.resample('1M').last()"
   ]
  },
  {
   "cell_type": "code",
   "execution_count": 5,
   "metadata": {
    "execution": {
     "iopub.execute_input": "2022-06-27T13:38:29.659673Z",
     "iopub.status.busy": "2022-06-27T13:38:29.658877Z",
     "iopub.status.idle": "2022-06-27T13:38:29.675002Z",
     "shell.execute_reply": "2022-06-27T13:38:29.673775Z",
     "shell.execute_reply.started": "2022-06-27T13:38:29.659640Z"
    }
   },
   "outputs": [
    {
     "data": {
      "text/html": [
       "<div>\n",
       "<style scoped>\n",
       "    .dataframe tbody tr th:only-of-type {\n",
       "        vertical-align: middle;\n",
       "    }\n",
       "\n",
       "    .dataframe tbody tr th {\n",
       "        vertical-align: top;\n",
       "    }\n",
       "\n",
       "    .dataframe thead th {\n",
       "        text-align: right;\n",
       "    }\n",
       "</style>\n",
       "<table border=\"1\" class=\"dataframe\">\n",
       "  <thead>\n",
       "    <tr style=\"text-align: right;\">\n",
       "      <th></th>\n",
       "      <th>Crude Oil</th>\n",
       "      <th>Brent Oil</th>\n",
       "      <th>Natural Gas</th>\n",
       "      <th>Gold</th>\n",
       "      <th>Silver</th>\n",
       "      <th>Copper</th>\n",
       "    </tr>\n",
       "    <tr>\n",
       "      <th>Date</th>\n",
       "      <th></th>\n",
       "      <th></th>\n",
       "      <th></th>\n",
       "      <th></th>\n",
       "      <th></th>\n",
       "      <th></th>\n",
       "    </tr>\n",
       "  </thead>\n",
       "  <tbody>\n",
       "    <tr>\n",
       "      <th>2012-01-31</th>\n",
       "      <td>98.48</td>\n",
       "      <td>110.98</td>\n",
       "      <td>2.503</td>\n",
       "      <td>1737.8</td>\n",
       "      <td>33.233</td>\n",
       "      <td>3.788</td>\n",
       "    </tr>\n",
       "    <tr>\n",
       "      <th>2012-02-29</th>\n",
       "      <td>107.07</td>\n",
       "      <td>122.66</td>\n",
       "      <td>2.616</td>\n",
       "      <td>1709.9</td>\n",
       "      <td>34.583</td>\n",
       "      <td>3.870</td>\n",
       "    </tr>\n",
       "    <tr>\n",
       "      <th>2012-03-31</th>\n",
       "      <td>103.02</td>\n",
       "      <td>122.88</td>\n",
       "      <td>2.126</td>\n",
       "      <td>1669.3</td>\n",
       "      <td>32.469</td>\n",
       "      <td>3.824</td>\n",
       "    </tr>\n",
       "    <tr>\n",
       "      <th>2012-04-30</th>\n",
       "      <td>104.87</td>\n",
       "      <td>119.47</td>\n",
       "      <td>2.285</td>\n",
       "      <td>1663.4</td>\n",
       "      <td>30.959</td>\n",
       "      <td>3.833</td>\n",
       "    </tr>\n",
       "    <tr>\n",
       "      <th>2012-05-31</th>\n",
       "      <td>86.53</td>\n",
       "      <td>101.87</td>\n",
       "      <td>2.422</td>\n",
       "      <td>1562.6</td>\n",
       "      <td>27.741</td>\n",
       "      <td>3.362</td>\n",
       "    </tr>\n",
       "  </tbody>\n",
       "</table>\n",
       "</div>"
      ],
      "text/plain": [
       "            Crude Oil  Brent Oil  Natural Gas    Gold  Silver  Copper\n",
       "Date                                                                 \n",
       "2012-01-31      98.48     110.98        2.503  1737.8  33.233   3.788\n",
       "2012-02-29     107.07     122.66        2.616  1709.9  34.583   3.870\n",
       "2012-03-31     103.02     122.88        2.126  1669.3  32.469   3.824\n",
       "2012-04-30     104.87     119.47        2.285  1663.4  30.959   3.833\n",
       "2012-05-31      86.53     101.87        2.422  1562.6  27.741   3.362"
      ]
     },
     "execution_count": 5,
     "metadata": {},
     "output_type": "execute_result"
    }
   ],
   "source": [
    "monthly_price.head()"
   ]
  },
  {
   "cell_type": "code",
   "execution_count": 6,
   "metadata": {
    "execution": {
     "iopub.execute_input": "2022-06-27T13:39:46.962280Z",
     "iopub.status.busy": "2022-06-27T13:39:46.961876Z",
     "iopub.status.idle": "2022-06-27T13:39:46.984142Z",
     "shell.execute_reply": "2022-06-27T13:39:46.983017Z",
     "shell.execute_reply.started": "2022-06-27T13:39:46.962248Z"
    }
   },
   "outputs": [
    {
     "data": {
      "text/html": [
       "<div>\n",
       "<style scoped>\n",
       "    .dataframe tbody tr th:only-of-type {\n",
       "        vertical-align: middle;\n",
       "    }\n",
       "\n",
       "    .dataframe tbody tr th {\n",
       "        vertical-align: top;\n",
       "    }\n",
       "\n",
       "    .dataframe thead th {\n",
       "        text-align: right;\n",
       "    }\n",
       "</style>\n",
       "<table border=\"1\" class=\"dataframe\">\n",
       "  <thead>\n",
       "    <tr style=\"text-align: right;\">\n",
       "      <th></th>\n",
       "      <th>Crude Oil</th>\n",
       "      <th>Brent Oil</th>\n",
       "      <th>Natural Gas</th>\n",
       "      <th>Gold</th>\n",
       "      <th>Silver</th>\n",
       "      <th>Copper</th>\n",
       "    </tr>\n",
       "    <tr>\n",
       "      <th>Date</th>\n",
       "      <th></th>\n",
       "      <th></th>\n",
       "      <th></th>\n",
       "      <th></th>\n",
       "      <th></th>\n",
       "      <th></th>\n",
       "    </tr>\n",
       "  </thead>\n",
       "  <tbody>\n",
       "    <tr>\n",
       "      <th>2012-01-31</th>\n",
       "      <td>NaN</td>\n",
       "      <td>NaN</td>\n",
       "      <td>NaN</td>\n",
       "      <td>NaN</td>\n",
       "      <td>NaN</td>\n",
       "      <td>NaN</td>\n",
       "    </tr>\n",
       "    <tr>\n",
       "      <th>2012-02-29</th>\n",
       "      <td>0.087226</td>\n",
       "      <td>0.105244</td>\n",
       "      <td>0.045146</td>\n",
       "      <td>-0.016055</td>\n",
       "      <td>0.040622</td>\n",
       "      <td>0.021647</td>\n",
       "    </tr>\n",
       "    <tr>\n",
       "      <th>2012-03-31</th>\n",
       "      <td>-0.037826</td>\n",
       "      <td>0.001794</td>\n",
       "      <td>-0.187309</td>\n",
       "      <td>-0.023744</td>\n",
       "      <td>-0.061128</td>\n",
       "      <td>-0.011886</td>\n",
       "    </tr>\n",
       "    <tr>\n",
       "      <th>2012-04-30</th>\n",
       "      <td>0.017958</td>\n",
       "      <td>-0.027751</td>\n",
       "      <td>0.074788</td>\n",
       "      <td>-0.003534</td>\n",
       "      <td>-0.046506</td>\n",
       "      <td>0.002354</td>\n",
       "    </tr>\n",
       "    <tr>\n",
       "      <th>2012-05-31</th>\n",
       "      <td>-0.174883</td>\n",
       "      <td>-0.147317</td>\n",
       "      <td>0.059956</td>\n",
       "      <td>-0.060599</td>\n",
       "      <td>-0.103944</td>\n",
       "      <td>-0.122880</td>\n",
       "    </tr>\n",
       "  </tbody>\n",
       "</table>\n",
       "</div>"
      ],
      "text/plain": [
       "            Crude Oil  Brent Oil  Natural Gas      Gold    Silver    Copper\n",
       "Date                                                                       \n",
       "2012-01-31        NaN        NaN          NaN       NaN       NaN       NaN\n",
       "2012-02-29   0.087226   0.105244     0.045146 -0.016055  0.040622  0.021647\n",
       "2012-03-31  -0.037826   0.001794    -0.187309 -0.023744 -0.061128 -0.011886\n",
       "2012-04-30   0.017958  -0.027751     0.074788 -0.003534 -0.046506  0.002354\n",
       "2012-05-31  -0.174883  -0.147317     0.059956 -0.060599 -0.103944 -0.122880"
      ]
     },
     "execution_count": 6,
     "metadata": {},
     "output_type": "execute_result"
    }
   ],
   "source": [
    "monthly_return = monthly_price.pct_change()\n",
    "monthly_return.head()"
   ]
  },
  {
   "cell_type": "markdown",
   "metadata": {},
   "source": [
    "Drop NaN value since we cannot have the return for the first period"
   ]
  },
  {
   "cell_type": "code",
   "execution_count": 7,
   "metadata": {
    "execution": {
     "iopub.execute_input": "2022-06-27T13:40:48.380229Z",
     "iopub.status.busy": "2022-06-27T13:40:48.379831Z",
     "iopub.status.idle": "2022-06-27T13:40:48.387116Z",
     "shell.execute_reply": "2022-06-27T13:40:48.386272Z",
     "shell.execute_reply.started": "2022-06-27T13:40:48.380197Z"
    }
   },
   "outputs": [],
   "source": [
    "monthly_return = monthly_return.dropna()"
   ]
  },
  {
   "cell_type": "markdown",
   "metadata": {},
   "source": [
    "## 1. Calculate the standard deviation and the mean of the monthly return"
   ]
  },
  {
   "cell_type": "code",
   "execution_count": 8,
   "metadata": {
    "execution": {
     "iopub.execute_input": "2022-06-27T13:41:12.038269Z",
     "iopub.status.busy": "2022-06-27T13:41:12.037863Z",
     "iopub.status.idle": "2022-06-27T13:41:12.049066Z",
     "shell.execute_reply": "2022-06-27T13:41:12.048186Z",
     "shell.execute_reply.started": "2022-06-27T13:41:12.038239Z"
    }
   },
   "outputs": [
    {
     "data": {
      "text/plain": [
       "Crude Oil      0.078050\n",
       "Brent Oil      0.106970\n",
       "Natural Gas    0.128509\n",
       "Gold           0.044721\n",
       "Silver         0.079931\n",
       "Copper         0.054059\n",
       "dtype: float64"
      ]
     },
     "execution_count": 8,
     "metadata": {},
     "output_type": "execute_result"
    }
   ],
   "source": [
    "monthly_return.std()"
   ]
  },
  {
   "cell_type": "markdown",
   "metadata": {},
   "source": [
    "**Natural Gas** has the highest monthly return volatility at around **12.85%** while **Gold** has the lowest monthly return volatility at about **4.47%**"
   ]
  },
  {
   "cell_type": "code",
   "execution_count": 9,
   "metadata": {
    "execution": {
     "iopub.execute_input": "2022-06-27T13:42:45.196119Z",
     "iopub.status.busy": "2022-06-27T13:42:45.195726Z",
     "iopub.status.idle": "2022-06-27T13:42:45.205785Z",
     "shell.execute_reply": "2022-06-27T13:42:45.204940Z",
     "shell.execute_reply.started": "2022-06-27T13:42:45.196085Z"
    }
   },
   "outputs": [
    {
     "data": {
      "text/plain": [
       "Crude Oil      0.004564\n",
       "Brent Oil      0.007050\n",
       "Natural Gas    0.016486\n",
       "Gold           0.001328\n",
       "Silver        -0.000579\n",
       "Copper         0.002225\n",
       "dtype: float64"
      ]
     },
     "execution_count": 9,
     "metadata": {},
     "output_type": "execute_result"
    }
   ],
   "source": [
    "monthly_return.mean()"
   ]
  },
  {
   "cell_type": "markdown",
   "metadata": {},
   "source": [
    "## 2. Calculate the annualized volatility and annualized return for commodities"
   ]
  },
  {
   "cell_type": "code",
   "execution_count": 10,
   "metadata": {
    "execution": {
     "iopub.execute_input": "2022-06-27T13:46:17.597766Z",
     "iopub.status.busy": "2022-06-27T13:46:17.597364Z",
     "iopub.status.idle": "2022-06-27T13:46:17.604708Z",
     "shell.execute_reply": "2022-06-27T13:46:17.603710Z",
     "shell.execute_reply.started": "2022-06-27T13:46:17.597735Z"
    }
   },
   "outputs": [],
   "source": [
    "annualize_vol = monthly_return.std()*np.sqrt(12)"
   ]
  },
  {
   "cell_type": "code",
   "execution_count": 11,
   "metadata": {
    "execution": {
     "iopub.execute_input": "2022-06-27T13:46:18.193884Z",
     "iopub.status.busy": "2022-06-27T13:46:18.192850Z",
     "iopub.status.idle": "2022-06-27T13:46:18.202803Z",
     "shell.execute_reply": "2022-06-27T13:46:18.201701Z",
     "shell.execute_reply.started": "2022-06-27T13:46:18.193833Z"
    }
   },
   "outputs": [
    {
     "data": {
      "text/plain": [
       "Crude Oil      0.270372\n",
       "Brent Oil      0.370554\n",
       "Natural Gas    0.445168\n",
       "Gold           0.154919\n",
       "Silver         0.276888\n",
       "Copper         0.187267\n",
       "dtype: float64"
      ]
     },
     "execution_count": 11,
     "metadata": {},
     "output_type": "execute_result"
    }
   ],
   "source": [
    "annualize_vol"
   ]
  },
  {
   "cell_type": "code",
   "execution_count": 12,
   "metadata": {
    "execution": {
     "iopub.execute_input": "2022-06-27T14:10:54.181222Z",
     "iopub.status.busy": "2022-06-27T14:10:54.180798Z",
     "iopub.status.idle": "2022-06-27T14:10:54.381837Z",
     "shell.execute_reply": "2022-06-27T14:10:54.380904Z",
     "shell.execute_reply.started": "2022-06-27T14:10:54.181187Z"
    }
   },
   "outputs": [
    {
     "data": {
      "image/png": "[encoded data removed]",
      "text/plain": [
       "<Figure size 864x648 with 1 Axes>"
      ]
     },
     "metadata": {
      "needs_background": "light"
     },
     "output_type": "display_data"
    }
   ],
   "source": [
    "plt.figure(figsize=(12,9))\n",
    "plt.ylabel('Annualized Volatility')\n",
    "annualize_vol.sort_values(inplace=True)\n",
    "ann_vol_chart = plt.bar(x=annualize_vol.index, height=annualize_vol, color='#008F7A')\n",
    "ann_vol_chart[-1].set_color('#845EC2')"
   ]
  },
  {
   "cell_type": "markdown",
   "metadata": {},
   "source": [
    "Natural gas has the highest annualized volatility while gold has the lowest"
   ]
  },
  {
   "cell_type": "code",
   "execution_count": 13,
   "metadata": {
    "execution": {
     "iopub.execute_input": "2022-06-27T13:48:18.989903Z",
     "iopub.status.busy": "2022-06-27T13:48:18.988949Z",
     "iopub.status.idle": "2022-06-27T13:48:19.001436Z",
     "shell.execute_reply": "2022-06-27T13:48:19.000225Z",
     "shell.execute_reply.started": "2022-06-27T13:48:18.989847Z"
    }
   },
   "outputs": [
    {
     "data": {
      "text/plain": [
       "Crude Oil      0.001523\n",
       "Brent Oil      0.000715\n",
       "Natural Gas    0.008595\n",
       "Gold           0.000347\n",
       "Silver        -0.003631\n",
       "Copper         0.000784\n",
       "dtype: float64"
      ]
     },
     "execution_count": 13,
     "metadata": {},
     "output_type": "execute_result"
    }
   ],
   "source": [
    "n_months = monthly_return.shape[0]\n",
    "return_per_month = (monthly_return+1).prod()**(1/n_months)-1\n",
    "return_per_month"
   ]
  },
  {
   "cell_type": "code",
   "execution_count": 14,
   "metadata": {
    "execution": {
     "iopub.execute_input": "2022-06-27T13:48:24.216979Z",
     "iopub.status.busy": "2022-06-27T13:48:24.216565Z",
     "iopub.status.idle": "2022-06-27T13:48:24.225521Z",
     "shell.execute_reply": "2022-06-27T13:48:24.224516Z",
     "shell.execute_reply.started": "2022-06-27T13:48:24.216928Z"
    }
   },
   "outputs": [
    {
     "data": {
      "text/plain": [
       "Crude Oil      0.018426\n",
       "Brent Oil      0.008612\n",
       "Natural Gas    0.108164\n",
       "Gold           0.004171\n",
       "Silver        -0.042716\n",
       "Copper         0.009445\n",
       "dtype: float64"
      ]
     },
     "execution_count": 14,
     "metadata": {},
     "output_type": "execute_result"
    }
   ],
   "source": [
    "annualize_return = (return_per_month+1)**12-1\n",
    "annualize_return"
   ]
  },
  {
   "cell_type": "code",
   "execution_count": 15,
   "metadata": {
    "execution": {
     "iopub.execute_input": "2022-06-27T14:11:14.447216Z",
     "iopub.status.busy": "2022-06-27T14:11:14.446796Z",
     "iopub.status.idle": "2022-06-27T14:11:14.652806Z",
     "shell.execute_reply": "2022-06-27T14:11:14.651609Z",
     "shell.execute_reply.started": "2022-06-27T14:11:14.447168Z"
    }
   },
   "outputs": [
    {
     "data": {
      "image/png": "[encoded data removed]",
      "text/plain": [
       "<Figure size 864x648 with 1 Axes>"
      ]
     },
     "metadata": {
      "needs_background": "light"
     },
     "output_type": "display_data"
    }
   ],
   "source": [
    "plt.figure(figsize=(12,9))\n",
    "plt.ylabel('Annualized Return')\n",
    "annualize_return.sort_values(inplace=True)\n",
    "ann_ret_chart = plt.bar(x=annualize_return.index, height=annualize_return, color='#008F7A')\n",
    "ann_ret_chart[-1].set_color('#845EC2')"
   ]
  },
  {
   "cell_type": "markdown",
   "metadata": {},
   "source": [
    "Natural gas has the highest annualized return despite the high risk while silver witness a negative return and a high volatility"
   ]
  },
  {
   "cell_type": "markdown",
   "metadata": {},
   "source": [
    "## 3. Calcualte the Sharpe Ratio of different commodities"
   ]
  },
  {
   "cell_type": "code",
   "execution_count": 16,
   "metadata": {
    "execution": {
     "iopub.execute_input": "2022-06-27T13:50:47.585373Z",
     "iopub.status.busy": "2022-06-27T13:50:47.584921Z",
     "iopub.status.idle": "2022-06-27T13:50:47.593276Z",
     "shell.execute_reply": "2022-06-27T13:50:47.591621Z",
     "shell.execute_reply.started": "2022-06-27T13:50:47.585336Z"
    }
   },
   "outputs": [],
   "source": [
    "risk_free_rate = 0.03 #assume the risk free rate is 3%\n",
    "excess_return = annualize_return-risk_free_rate\n",
    "sharpe_ratio = excess_return/annualize_vol"
   ]
  },
  {
   "cell_type": "code",
   "execution_count": 17,
   "metadata": {
    "execution": {
     "iopub.execute_input": "2022-06-27T13:50:48.205062Z",
     "iopub.status.busy": "2022-06-27T13:50:48.204252Z",
     "iopub.status.idle": "2022-06-27T13:50:48.212983Z",
     "shell.execute_reply": "2022-06-27T13:50:48.212051Z",
     "shell.execute_reply.started": "2022-06-27T13:50:48.205020Z"
    }
   },
   "outputs": [
    {
     "data": {
      "text/plain": [
       "Brent Oil     -0.057718\n",
       "Copper        -0.109763\n",
       "Crude Oil     -0.042806\n",
       "Gold          -0.166727\n",
       "Natural Gas    0.175582\n",
       "Silver        -0.262620\n",
       "dtype: float64"
      ]
     },
     "execution_count": 17,
     "metadata": {},
     "output_type": "execute_result"
    }
   ],
   "source": [
    "sharpe_ratio"
   ]
  },
  {
   "cell_type": "code",
   "execution_count": 18,
   "metadata": {
    "execution": {
     "iopub.execute_input": "2022-06-27T14:11:27.127346Z",
     "iopub.status.busy": "2022-06-27T14:11:27.126950Z",
     "iopub.status.idle": "2022-06-27T14:11:27.297699Z",
     "shell.execute_reply": "2022-06-27T14:11:27.296312Z",
     "shell.execute_reply.started": "2022-06-27T14:11:27.127315Z"
    }
   },
   "outputs": [
    {
     "data": {
      "image/png": "[encoded data removed]",
      "text/plain": [
       "<Figure size 864x648 with 1 Axes>"
      ]
     },
     "metadata": {
      "needs_background": "light"
     },
     "output_type": "display_data"
    }
   ],
   "source": [
    "plt.figure(figsize=(12,9))\n",
    "plt.ylabel('Sharpe Ratio')\n",
    "sharpe_ratio.sort_values(inplace=True)\n",
    "sp_chart = plt.bar(x=sharpe_ratio.index, height=sharpe_ratio, color='#008E9B')\n",
    "sp_chart[5].set_color('#845EC2')"
   ]
  },
  {
   "cell_type": "markdown",
   "metadata": {},
   "source": [
    "Except for natural gas, all of the commodities have negative Sharpe Ratio which means that the investment in these commodities are not efficient as buying Treasury bond"
   ]
  },
  {
   "cell_type": "markdown",
   "metadata": {},
   "source": [
    "## 4. Calculate the correlation between the return of different commodities"
   ]
  },
  {
   "cell_type": "code",
   "execution_count": 19,
   "metadata": {
    "execution": {
     "iopub.execute_input": "2022-06-27T13:53:37.321774Z",
     "iopub.status.busy": "2022-06-27T13:53:37.321393Z",
     "iopub.status.idle": "2022-06-27T13:53:37.329749Z",
     "shell.execute_reply": "2022-06-27T13:53:37.328629Z",
     "shell.execute_reply.started": "2022-06-27T13:53:37.321741Z"
    }
   },
   "outputs": [],
   "source": [
    "df_corr = monthly_return.corr()"
   ]
  },
  {
   "cell_type": "code",
   "execution_count": 20,
   "metadata": {
    "execution": {
     "iopub.execute_input": "2022-06-27T13:53:47.333609Z",
     "iopub.status.busy": "2022-06-27T13:53:47.332697Z",
     "iopub.status.idle": "2022-06-27T13:53:47.350472Z",
     "shell.execute_reply": "2022-06-27T13:53:47.348859Z",
     "shell.execute_reply.started": "2022-06-27T13:53:47.333488Z"
    }
   },
   "outputs": [
    {
     "data": {
      "text/html": [
       "<div>\n",
       "<style scoped>\n",
       "    .dataframe tbody tr th:only-of-type {\n",
       "        vertical-align: middle;\n",
       "    }\n",
       "\n",
       "    .dataframe tbody tr th {\n",
       "        vertical-align: top;\n",
       "    }\n",
       "\n",
       "    .dataframe thead th {\n",
       "        text-align: right;\n",
       "    }\n",
       "</style>\n",
       "<table border=\"1\" class=\"dataframe\">\n",
       "  <thead>\n",
       "    <tr style=\"text-align: right;\">\n",
       "      <th></th>\n",
       "      <th>Crude Oil</th>\n",
       "      <th>Brent Oil</th>\n",
       "      <th>Natural Gas</th>\n",
       "      <th>Gold</th>\n",
       "      <th>Silver</th>\n",
       "      <th>Copper</th>\n",
       "    </tr>\n",
       "  </thead>\n",
       "  <tbody>\n",
       "    <tr>\n",
       "      <th>Crude Oil</th>\n",
       "      <td>1.000000</td>\n",
       "      <td>0.769729</td>\n",
       "      <td>0.134064</td>\n",
       "      <td>0.092220</td>\n",
       "      <td>0.229790</td>\n",
       "      <td>0.472504</td>\n",
       "    </tr>\n",
       "    <tr>\n",
       "      <th>Brent Oil</th>\n",
       "      <td>0.769729</td>\n",
       "      <td>1.000000</td>\n",
       "      <td>0.070463</td>\n",
       "      <td>0.061712</td>\n",
       "      <td>0.319525</td>\n",
       "      <td>0.481226</td>\n",
       "    </tr>\n",
       "    <tr>\n",
       "      <th>Natural Gas</th>\n",
       "      <td>0.134064</td>\n",
       "      <td>0.070463</td>\n",
       "      <td>1.000000</td>\n",
       "      <td>-0.089082</td>\n",
       "      <td>-0.034100</td>\n",
       "      <td>0.027913</td>\n",
       "    </tr>\n",
       "    <tr>\n",
       "      <th>Gold</th>\n",
       "      <td>0.092220</td>\n",
       "      <td>0.061712</td>\n",
       "      <td>-0.089082</td>\n",
       "      <td>1.000000</td>\n",
       "      <td>0.665266</td>\n",
       "      <td>0.252299</td>\n",
       "    </tr>\n",
       "    <tr>\n",
       "      <th>Silver</th>\n",
       "      <td>0.229790</td>\n",
       "      <td>0.319525</td>\n",
       "      <td>-0.034100</td>\n",
       "      <td>0.665266</td>\n",
       "      <td>1.000000</td>\n",
       "      <td>0.368483</td>\n",
       "    </tr>\n",
       "    <tr>\n",
       "      <th>Copper</th>\n",
       "      <td>0.472504</td>\n",
       "      <td>0.481226</td>\n",
       "      <td>0.027913</td>\n",
       "      <td>0.252299</td>\n",
       "      <td>0.368483</td>\n",
       "      <td>1.000000</td>\n",
       "    </tr>\n",
       "  </tbody>\n",
       "</table>\n",
       "</div>"
      ],
      "text/plain": [
       "             Crude Oil  Brent Oil  Natural Gas      Gold    Silver    Copper\n",
       "Crude Oil     1.000000   0.769729     0.134064  0.092220  0.229790  0.472504\n",
       "Brent Oil     0.769729   1.000000     0.070463  0.061712  0.319525  0.481226\n",
       "Natural Gas   0.134064   0.070463     1.000000 -0.089082 -0.034100  0.027913\n",
       "Gold          0.092220   0.061712    -0.089082  1.000000  0.665266  0.252299\n",
       "Silver        0.229790   0.319525    -0.034100  0.665266  1.000000  0.368483\n",
       "Copper        0.472504   0.481226     0.027913  0.252299  0.368483  1.000000"
      ]
     },
     "execution_count": 20,
     "metadata": {},
     "output_type": "execute_result"
    }
   ],
   "source": [
    "df_corr"
   ]
  },
  {
   "cell_type": "code",
   "execution_count": 21,
   "metadata": {
    "execution": {
     "iopub.execute_input": "2022-06-27T14:15:13.822104Z",
     "iopub.status.busy": "2022-06-27T14:15:13.821696Z",
     "iopub.status.idle": "2022-06-27T14:15:14.206980Z",
     "shell.execute_reply": "2022-06-27T14:15:14.205907Z",
     "shell.execute_reply.started": "2022-06-27T14:15:13.822069Z"
    }
   },
   "outputs": [
    {
     "data": {
      "text/plain": [
       "Text(87.0, 0.5, \"Commodities' return\")"
      ]
     },
     "execution_count": 21,
     "metadata": {},
     "output_type": "execute_result"
    },
    {
     "data": {
      "image/png": "[encoded data removed]",
      "text/plain": [
       "<Figure size 864x432 with 2 Axes>"
      ]
     },
     "metadata": {
      "needs_background": "light"
     },
     "output_type": "display_data"
    }
   ],
   "source": [
    "plt.figure(figsize=(12,6))\n",
    "correlation_matrix = df.corr()\n",
    "sns.heatmap(correlation_matrix, annot=True, cmap='BuPu')\n",
    "plt.title(\"Correlation of commodities's price\")\n",
    "plt.xlabel(\"Commodities' return\")\n",
    "plt.ylabel(\"Commodities' return\")"
   ]
  },
  {
   "cell_type": "markdown",
   "metadata": {},
   "source": [
    "* The correlation between metal such as gold, silver and copper are high\n",
    "* Oil and gas investment returns are also highly correlated\n",
    "* Gold and oil or gas returns have low correlation which could be a good option for investors who prefer diversification and low risk"
   ]
  }
 ],
 "metadata": {
  "kernelspec": {
   "display_name": "Python 3 (ipykernel)",
   "language": "python",
   "name": "python3"
  },
  "language_info": {
   "codemirror_mode": {
    "name": "ipython",
    "version": 3
   },
   "file_extension": ".py",
   "mimetype": "text/x-python",
   "name": "python",
   "nbconvert_exporter": "python",
   "pygments_lexer": "ipython3",
   "version": "3.9.7"
  }
 },
 "nbformat": 4,
 "nbformat_minor": 4
}
